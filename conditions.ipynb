{
 "cells": [
  {
   "cell_type": "code",
   "execution_count": 4,
   "metadata": {},
   "outputs": [
    {
     "name": "stdout",
     "output_type": "stream",
     "text": [
      "A\n",
      "B\n"
     ]
    }
   ],
   "source": [
    "marks = 75\n",
    "if marks >= 90:\n",
    "    print('A+')\n",
    "if marks >= 70:\n",
    "    print('A')\n",
    "if marks >= 50:\n",
    "    print(\"B\")\n",
    "if marks < 50:\n",
    "    print(\"Fail\")\n"
   ]
  },
  {
   "cell_type": "code",
   "execution_count": 5,
   "metadata": {},
   "outputs": [
    {
     "name": "stdout",
     "output_type": "stream",
     "text": [
      "A\n"
     ]
    }
   ],
   "source": [
    "marks = 75\n",
    "if marks >= 90:\n",
    "    print('A+')\n",
    "elif marks >= 70:\n",
    "    print('A')\n",
    "elif marks >= 50:\n",
    "    print(\"B\")\n",
    "elif marks < 50:\n",
    "    print(\"Fail\")\n",
    "else:\n",
    "    print(\"Invalid Marks\")"
   ]
  },
  {
   "cell_type": "code",
   "execution_count": 6,
   "metadata": {},
   "outputs": [
    {
     "name": "stdout",
     "output_type": "stream",
     "text": [
      " the person is eligible to vote \n"
     ]
    }
   ],
   "source": [
    "age = 34 \n",
    "if age>=18:\n",
    "    print (\" the person is eligible to vote \")\n",
    "else :\n",
    "    print (\" the person is not eligible to vote\")\n",
    "    "
   ]
  },
  {
   "cell_type": "code",
   "execution_count": null,
   "metadata": {},
   "outputs": [],
   "source": []
  },
  {
   "cell_type": "markdown",
   "metadata": {},
   "source": [
    "- check whether a number is positive or negative\n",
    "- check wether a number is odd or even \n",
    "- check whether a triangle is equilateral or isoceles\n",
    "- take a list of 10 apps and check whether \"zomato\" is in the list or not \n",
    "- enter a character by user and check whether it is a vowel or not\n",
    "- check wether two sides entered by user are equal or not\n"
   ]
  },
  {
   "cell_type": "markdown",
   "metadata": {},
   "source": []
  },
  {
   "cell_type": "code",
   "execution_count": 8,
   "metadata": {},
   "outputs": [
    {
     "name": "stdout",
     "output_type": "stream",
     "text": [
      " it is a positive number\n"
     ]
    }
   ],
   "source": [
    "number = 8\n",
    "if number > 0:\n",
    "    print(\" it is a positive number\")\n",
    "else :\n",
    "    print (\" it is a negative number\")    "
   ]
  },
  {
   "cell_type": "code",
   "execution_count": 2,
   "metadata": {},
   "outputs": [
    {
     "name": "stdout",
     "output_type": "stream",
     "text": [
      "it is a odd number\n"
     ]
    }
   ],
   "source": [
    "number = 7\n",
    "if number/2 == 0:\n",
    "    print(\"it is a even number\")\n",
    "else:\n",
    "    print(\"it is a odd number\")\n"
   ]
  },
  {
   "cell_type": "code",
   "execution_count": 4,
   "metadata": {},
   "outputs": [
    {
     "ename": "SyntaxError",
     "evalue": "invalid syntax (169656227.py, line 2)",
     "output_type": "error",
     "traceback": [
      "\u001b[1;36m  Cell \u001b[1;32mIn[4], line 2\u001b[1;36m\u001b[0m\n\u001b[1;33m    if sidea = sideb = sidec:\u001b[0m\n\u001b[1;37m             ^\u001b[0m\n\u001b[1;31mSyntaxError\u001b[0m\u001b[1;31m:\u001b[0m invalid syntax\n"
     ]
    }
   ],
   "source": [
    "sidea == 5, sideb == 5, sidec == 5\n",
    "if sidea = sideb = sidec:\n",
    "    print(\"EQUILATERAL TRIANGLE\")\n",
    "else: \n",
    "    print(\"isoceles triangle\")\n"
   ]
  },
  {
   "cell_type": "code",
   "execution_count": null,
   "metadata": {},
   "outputs": [],
   "source": []
  }
 ],
 "metadata": {
  "kernelspec": {
   "display_name": "base",
   "language": "python",
   "name": "python3"
  },
  "language_info": {
   "codemirror_mode": {
    "name": "ipython",
    "version": 3
   },
   "file_extension": ".py",
   "mimetype": "text/x-python",
   "name": "python",
   "nbconvert_exporter": "python",
   "pygments_lexer": "ipython3",
   "version": "3.12.7"
  }
 },
 "nbformat": 4,
 "nbformat_minor": 2
}
