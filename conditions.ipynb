{
 "cells": [
  {
   "cell_type": "code",
   "execution_count": 4,
   "metadata": {},
   "outputs": [
    {
     "name": "stdout",
     "output_type": "stream",
     "text": [
      "A\n",
      "B\n"
     ]
    }
   ],
   "source": [
    "marks = 75\n",
    "if marks >= 90:\n",
    "    print('A+')\n",
    "if marks >= 70:\n",
    "    print('A')\n",
    "if marks >= 50:\n",
    "    print(\"B\")\n",
    "if marks < 50:\n",
    "    print(\"Fail\")\n"
   ]
  },
  {
   "cell_type": "code",
   "execution_count": 5,
   "metadata": {},
   "outputs": [
    {
     "name": "stdout",
     "output_type": "stream",
     "text": [
      "A\n"
     ]
    }
   ],
   "source": [
    "marks = 75\n",
    "if marks >= 90:\n",
    "    print('A+')\n",
    "elif marks >= 70:\n",
    "    print('A')\n",
    "elif marks >= 50:\n",
    "    print(\"B\")\n",
    "elif marks < 50:\n",
    "    print(\"Fail\")\n",
    "else:\n",
    "    print(\"Invalid Marks\")"
   ]
  },
  {
   "cell_type": "code",
   "execution_count": 6,
   "metadata": {},
   "outputs": [
    {
     "name": "stdout",
     "output_type": "stream",
     "text": [
      " the person is eligible to vote \n"
     ]
    }
   ],
   "source": [
    "age = 34 \n",
    "if age>=18:\n",
    "    print (\" the person is eligible to vote \")\n",
    "else :\n",
    "    print (\" the person is not eligible to vote\")\n",
    "    "
   ]
  },
  {
   "cell_type": "code",
   "execution_count": null,
   "metadata": {},
   "outputs": [],
   "source": []
  },
  {
   "cell_type": "markdown",
   "metadata": {},
   "source": [
    "- check whether a number is positive or negative\n",
    "- check wether a number is odd or even \n",
    "- check whether a triangle is equilateral or isoceles\n",
    "- take a list of 10 apps and check whether \"zomato\" is in the list or not \n",
    "- enter a character by user and check whether it is a vowel or not\n",
    "- check wether two sides entered by user are equal or not\n"
   ]
  },
  {
   "cell_type": "markdown",
   "metadata": {},
   "source": []
  },
  {
   "cell_type": "code",
   "execution_count": 8,
   "metadata": {},
   "outputs": [
    {
     "name": "stdout",
     "output_type": "stream",
     "text": [
      " it is a positive number\n"
     ]
    }
   ],
   "source": [
    "number = 8\n",
    "if number > 0:\n",
    "    print(\" it is a positive number\")\n",
    "else :\n",
    "    print (\" it is a negative number\")    "
   ]
  },
  {
   "cell_type": "code",
   "execution_count": 2,
   "metadata": {},
   "outputs": [
    {
     "name": "stdout",
     "output_type": "stream",
     "text": [
      "it is a odd number\n"
     ]
    }
   ],
   "source": [
    "number = 7\n",
    "if number/2 == 0:\n",
    "    print(\"it is a even number\")\n",
    "else:\n",
    "    print(\"it is a odd number\")\n"
   ]
  },
  {
   "cell_type": "code",
   "execution_count": 4,
   "metadata": {},
   "outputs": [
    {
     "name": "stdout",
     "output_type": "stream",
     "text": [
      "EQUILATERAL TRIANGLE\n"
     ]
    }
   ],
   "source": [
    "a = 5\n",
    "b = 5 \n",
    "c = 5\n",
    "if a==b==c:\n",
    "    print(\"EQUILATERAL TRIANGLE\")\n",
    "elif a==b or b==c or c==a:\n",
    "    print(\"isoceles triangle\")\n",
    "else:\n",
    "    print(\"scalene triangle\")\n"
   ]
  },
  {
   "cell_type": "code",
   "execution_count": 2,
   "metadata": {},
   "outputs": [
    {
     "ename": "NameError",
     "evalue": "name 'zomato' is not defined",
     "output_type": "error",
     "traceback": [
      "\u001b[1;31m---------------------------------------------------------------------------\u001b[0m",
      "\u001b[1;31mNameError\u001b[0m                                 Traceback (most recent call last)",
      "Cell \u001b[1;32mIn[2], line 2\u001b[0m\n\u001b[0;32m      1\u001b[0m apps \u001b[38;5;241m=\u001b[39m [\u001b[38;5;124m'\u001b[39m\u001b[38;5;124mdrive \u001b[39m\u001b[38;5;124m'\u001b[39m, \u001b[38;5;124m'\u001b[39m\u001b[38;5;124mfacebook\u001b[39m\u001b[38;5;124m'\u001b[39m ,\u001b[38;5;124m'\u001b[39m\u001b[38;5;124minsta\u001b[39m\u001b[38;5;124m'\u001b[39m,\u001b[38;5;124m'\u001b[39m\u001b[38;5;124mzomato\u001b[39m\u001b[38;5;124m'\u001b[39m,\u001b[38;5;124m'\u001b[39m\u001b[38;5;124mswiggy\u001b[39m\u001b[38;5;124m'\u001b[39m]\n\u001b[1;32m----> 2\u001b[0m [\u001b[43mzomato\u001b[49m] \u001b[38;5;129;01min\u001b[39;00m apps\n",
      "\u001b[1;31mNameError\u001b[0m: name 'zomato' is not defined"
     ]
    }
   ],
   "source": [
    "apps = ['drive ', 'facebook' ,'insta','zomato','swiggy']\n",
    "[zomato] in apps"
   ]
  },
  {
   "cell_type": "code",
   "execution_count": null,
   "metadata": {},
   "outputs": [],
   "source": []
  },
  {
   "cell_type": "markdown",
   "metadata": {},
   "source": [
    "nested if"
   ]
  },
  {
   "cell_type": "code",
   "execution_count": 10,
   "metadata": {},
   "outputs": [
    {
     "name": "stdout",
     "output_type": "stream",
     "text": [
      "Registration successful😍\n"
     ]
    }
   ],
   "source": [
    "username = input(\"Enter username:  \")\n",
    "email = input(\"Enter email: \")\n",
    "password = input(\"Enter password:  \")\n",
    "cpass = input(\"Enter confirm password: \")\n",
    "if len(username)>=10 and len (username)<=20:\n",
    "    if'@'in email and len(email)>=10 and len(email)<=50:\n",
    "        if password == cpass:\n",
    "            print(\"Registration successful😍\")\n",
    "        else:\n",
    "            print(\"Password and confgirm password should be the same 😒\")    \n",
    "    else: \n",
    "        print(\"INvalid email😭\")\n",
    "else:\n",
    "    print(\"Invalid username😭😭\")  \n"
   ]
  },
  {
   "cell_type": "code",
   "execution_count": null,
   "metadata": {},
   "outputs": [],
   "source": []
  },
  {
   "cell_type": "code",
   "execution_count": null,
   "metadata": {},
   "outputs": [],
   "source": []
  }
 ],
 "metadata": {
  "kernelspec": {
   "display_name": "base",
   "language": "python",
   "name": "python3"
  },
  "language_info": {
   "codemirror_mode": {
    "name": "ipython",
    "version": 3
   },
   "file_extension": ".py",
   "mimetype": "text/x-python",
   "name": "python",
   "nbconvert_exporter": "python",
   "pygments_lexer": "ipython3",
   "version": "3.12.7"
  }
 },
 "nbformat": 4,
 "nbformat_minor": 2
}
