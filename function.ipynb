{
 "cells": [
  {
   "cell_type": "code",
   "execution_count": 1,
   "metadata": {},
   "outputs": [],
   "source": [
    "#non parameterized function\n",
    "def  my_func():\n",
    "    print(\"hello frim my_func\")"
   ]
  },
  {
   "cell_type": "code",
   "execution_count": 2,
   "metadata": {},
   "outputs": [],
   "source": [
    "#parameterized function \n",
    "#non return function\n",
    "def sum (num1 , num2):#parameters\n",
    "    print(num1+num2)"
   ]
  },
  {
   "cell_type": "code",
   "execution_count": 3,
   "metadata": {},
   "outputs": [
    {
     "name": "stdout",
     "output_type": "stream",
     "text": [
      "30\n"
     ]
    }
   ],
   "source": [
    "sum(10,20)#arguments"
   ]
  },
  {
   "cell_type": "code",
   "execution_count": 6,
   "metadata": {},
   "outputs": [],
   "source": [
    "def name(fname):\n",
    "    print(\"hello\", fname)\n"
   ]
  },
  {
   "cell_type": "code",
   "execution_count": 7,
   "metadata": {},
   "outputs": [
    {
     "name": "stdout",
     "output_type": "stream",
     "text": [
      "hello akash\n"
     ]
    }
   ],
   "source": [
    "name(\"akash\")"
   ]
  },
  {
   "cell_type": "code",
   "execution_count": 12,
   "metadata": {},
   "outputs": [],
   "source": [
    "def average(num1, num2 ,num3):\n",
    "    print((num1+num2+num3)/3)"
   ]
  },
  {
   "cell_type": "code",
   "execution_count": 13,
   "metadata": {},
   "outputs": [
    {
     "name": "stdout",
     "output_type": "stream",
     "text": [
      "5.0\n"
     ]
    }
   ],
   "source": [
    "average(7,3,5)"
   ]
  },
  {
   "cell_type": "code",
   "execution_count": 15,
   "metadata": {},
   "outputs": [
    {
     "name": "stdout",
     "output_type": "stream",
     "text": [
      "275538.3333333333\n"
     ]
    }
   ],
   "source": [
    "average(783393,3839,39383)"
   ]
  },
  {
   "cell_type": "code",
   "execution_count": 17,
   "metadata": {},
   "outputs": [
    {
     "data": {
      "text/plain": [
       "15"
      ]
     },
     "execution_count": 17,
     "metadata": {},
     "output_type": "execute_result"
    }
   ],
   "source": [
    "#return function\n",
    "def func(x):\n",
    "    return 5*x\n",
    "\n",
    "func(3)"
   ]
  },
  {
   "cell_type": "code",
   "execution_count": 18,
   "metadata": {},
   "outputs": [
    {
     "name": "stdout",
     "output_type": "stream",
     "text": [
      "i am from usa\n",
      "i am from pakistan\n",
      "i am from uk\n",
      "i am from india\n"
     ]
    }
   ],
   "source": [
    "#default parameterzied function\n",
    "def my_country(country = \"india\"):\n",
    "    print(\"i am from \"+ country)\n",
    "\n",
    "my_country(\"usa\")\n",
    "my_country(\"pakistan\")\n",
    "my_country(\"uk\")\n",
    "my_country()"
   ]
  },
  {
   "cell_type": "code",
   "execution_count": 3,
   "metadata": {},
   "outputs": [],
   "source": [
    "import math"
   ]
  },
  {
   "cell_type": "markdown",
   "metadata": {},
   "source": [
    "built - in methods\n"
   ]
  },
  {
   "cell_type": "markdown",
   "metadata": {},
   "source": []
  },
  {
   "cell_type": "code",
   "execution_count": 8,
   "metadata": {},
   "outputs": [
    {
     "name": "stdout",
     "output_type": "stream",
     "text": [
      "4.0\n",
      "8.0\n",
      "3.141592653589793\n",
      "2.718281828459045\n",
      "120\n",
      "3\n",
      "0.8939966636005579\n",
      "-0.4480736161291701\n",
      "-1.995200412208242\n",
      "60\n",
      "2.302585092994046\n"
     ]
    }
   ],
   "source": [
    "print(math.sqrt(16))\n",
    "print(math.pow(2,3))\n",
    "print(math.pi)\n",
    "print(math.e)\n",
    "print(math.factorial(5))\n",
    "print(math.gcd(12,15))\n",
    "print(math.sin(90))\n",
    "print(math.cos(90))\n",
    "print(math.tan(90))\n",
    "print(math.lcm(12,15))\n",
    "print(math.log(10))"
   ]
  },
  {
   "cell_type": "code",
   "execution_count": 9,
   "metadata": {},
   "outputs": [],
   "source": [
    "from random import random, randint, choice, shuffle"
   ]
  },
  {
   "cell_type": "code",
   "execution_count": 38,
   "metadata": {},
   "outputs": [
    {
     "name": "stdout",
     "output_type": "stream",
     "text": [
      "get a random number between 0 and 1 : 0.40439460989965026\n",
      "get a random number between 1 and 100: 33\n",
      "get a random numnber from a list : 5\n",
      "shuffle a list: ['asad', 'ahmad', 'areeba', 'ali']\n"
     ]
    }
   ],
   "source": [
    "print('get a random number between 0 and 1 :', random())\n",
    "print('get a random number between 1 and 100:',randint(1,100))\n",
    "print(\"get a random numnber from a list :\", choice([1,2,3,4,5]))\n",
    "names = ['areeba', 'ali' , 'ahmad' ,'asad']\n",
    "shuffle(names)\n",
    "print('shuffle a list:',names)"
   ]
  },
  {
   "cell_type": "code",
   "execution_count": 43,
   "metadata": {},
   "outputs": [],
   "source": [
    "from datetime import datetime as dt"
   ]
  },
  {
   "cell_type": "code",
   "execution_count": 47,
   "metadata": {},
   "outputs": [
    {
     "name": "stdout",
     "output_type": "stream",
     "text": [
      "current date and time: 2024-12-21 18:30:29.094774\n",
      "current date: 2024-12-21\n",
      "current time: 18:30:29.094774\n",
      "current year: 2024\n",
      "Current month: 12\n",
      "current day: 21\n",
      "current hour 18\n",
      "current minute 30\n",
      "current second 29\n",
      "current microsecond 94774\n"
     ]
    }
   ],
   "source": [
    "print(\"current date and time:\",dt.now())\n",
    "print('current date:', dt.now().date())\n",
    "print(\"current time:\",dt.now().time())\n",
    "print('current year:',dt.now().year)\n",
    "print(\"Current month:\",dt.now().month)\n",
    "print(\"current day:\",dt.now().day)\n",
    "print(\"current hour\",dt.now().hour)\n",
    "print('current minute',dt.now().minute)\n",
    "print('current second',dt.now().second)\n",
    "print('current microsecond',dt.now().microsecond)"
   ]
  },
  {
   "cell_type": "code",
   "execution_count": 55,
   "metadata": {},
   "outputs": [
    {
     "name": "stdout",
     "output_type": "stream",
     "text": [
      "date in dd-mm-yyyy format: 21-12-24\n"
     ]
    }
   ],
   "source": [
    "date = dt.strftime(dt.now(),'%d-%m-%y')\n",
    "print('date in dd-mm-yyyy format:',date)"
   ]
  },
  {
   "cell_type": "code",
   "execution_count": 54,
   "metadata": {},
   "outputs": [
    {
     "name": "stdout",
     "output_type": "stream",
     "text": [
      "time in 24 hour format: 18:38:00\n"
     ]
    }
   ],
   "source": [
    "time = dt.strftime(dt.now(),'%H:%M:%S')\n",
    "print(\"time in 24 hour format:\",time)"
   ]
  },
  {
   "cell_type": "code",
   "execution_count": 56,
   "metadata": {},
   "outputs": [],
   "source": [
    "import os"
   ]
  },
  {
   "cell_type": "code",
   "execution_count": 57,
   "metadata": {},
   "outputs": [
    {
     "name": "stdout",
     "output_type": "stream",
     "text": [
      "current working diretory c:\\data structuresw\n"
     ]
    }
   ],
   "source": [
    "print('current working diretory',os.getcwd())"
   ]
  },
  {
   "cell_type": "code",
   "execution_count": 58,
   "metadata": {},
   "outputs": [
    {
     "name": "stdout",
     "output_type": "stream",
     "text": [
      "files in current directory: ['function.ipynb', 'list.ipynb', 'STRING.IPYNB']\n",
      "3 files found\n"
     ]
    }
   ],
   "source": [
    "files = os.listdir()# list all files and folders in current directory\n",
    "print('files in current directory:',files)\n",
    "print(len(files),'files found')"
   ]
  },
  {
   "cell_type": "code",
   "execution_count": 62,
   "metadata": {},
   "outputs": [
    {
     "name": "stdout",
     "output_type": "stream",
     "text": [
      "files in current directory: ['function.ipynb', 'list.ipynb', 'STRING.IPYNB']\n",
      "3 files found\n"
     ]
    }
   ],
   "source": [
    "file = os.listdir(r\"C:\\data structuresw\")\n",
    "print('files in current directory:',file)\n",
    "print(len(file),'files found')"
   ]
  },
  {
   "cell_type": "code",
   "execution_count": 59,
   "metadata": {},
   "outputs": [
    {
     "data": {
      "text/plain": [
       "<generator object walk at 0x00000239EFF8DB90>"
      ]
     },
     "execution_count": 59,
     "metadata": {},
     "output_type": "execute_result"
    }
   ],
   "source": [
    "os.walk('c:')"
   ]
  },
  {
   "cell_type": "code",
   "execution_count": 63,
   "metadata": {},
   "outputs": [
    {
     "name": "stdout",
     "output_type": "stream",
     "text": [
      "=> c:\\data structuresw\n",
      "folder []\n",
      "files ['function.ipynb', 'list.ipynb', 'STRING.IPYNB']\n",
      "3 files found\n"
     ]
    },
    {
     "name": "stderr",
     "output_type": "stream",
     "text": [
      "<>:2: SyntaxWarning: invalid escape sequence '\\d'\n",
      "<>:2: SyntaxWarning: invalid escape sequence '\\d'\n",
      "C:\\Users\\akash\\AppData\\Local\\Temp\\ipykernel_16528\\886858592.py:2: SyntaxWarning: invalid escape sequence '\\d'\n",
      "  for path, folders, files in os.walk('c:\\data structuresw'):\n"
     ]
    }
   ],
   "source": [
    "total_files = 0\n",
    "for path, folders, files in os.walk('c:\\data structuresw'):\n",
    "    total_files += len(files)\n",
    "    print('=>', path)\n",
    "    print('folder', folders)\n",
    "    print('files', files)\n",
    "print(total_files, 'files found')"
   ]
  },
  {
   "cell_type": "code",
   "execution_count": null,
   "metadata": {},
   "outputs": [],
   "source": []
  }
 ],
 "metadata": {
  "kernelspec": {
   "display_name": "base",
   "language": "python",
   "name": "python3"
  },
  "language_info": {
   "codemirror_mode": {
    "name": "ipython",
    "version": 3
   },
   "file_extension": ".py",
   "mimetype": "text/x-python",
   "name": "python",
   "nbconvert_exporter": "python",
   "pygments_lexer": "ipython3",
   "version": "3.12.7"
  }
 },
 "nbformat": 4,
 "nbformat_minor": 2
}
