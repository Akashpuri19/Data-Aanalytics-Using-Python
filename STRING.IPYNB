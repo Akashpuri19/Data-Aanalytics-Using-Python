{
 "cells": [
  {
   "cell_type": "code",
   "execution_count": 1,
   "metadata": {},
   "outputs": [
    {
     "name": "stdout",
     "output_type": "stream",
     "text": [
      "akash puri\n"
     ]
    }
   ],
   "source": [
    "name = \"akash puri\"\n",
    "print(name)"
   ]
  },
  {
   "cell_type": "code",
   "execution_count": 2,
   "metadata": {},
   "outputs": [
    {
     "name": "stdout",
     "output_type": "stream",
     "text": [
      "u\n"
     ]
    }
   ],
   "source": [
    "print(name[7])"
   ]
  },
  {
   "cell_type": "code",
   "execution_count": 3,
   "metadata": {},
   "outputs": [
    {
     "name": "stdout",
     "output_type": "stream",
     "text": [
      "akash\n"
     ]
    }
   ],
   "source": [
    "print(name[0:5])"
   ]
  },
  {
   "cell_type": "code",
   "execution_count": 4,
   "metadata": {},
   "outputs": [
    {
     "name": "stdout",
     "output_type": "stream",
     "text": [
      "akash puri is a student\n"
     ]
    }
   ],
   "source": [
    "#string concatennation\n",
    "print(name + \" is a student\")\n"
   ]
  },
  {
   "cell_type": "markdown",
   "metadata": {},
   "source": [
    "\n"
   ]
  },
  {
   "cell_type": "code",
   "execution_count": 5,
   "metadata": {},
   "outputs": [
    {
     "name": "stdout",
     "output_type": "stream",
     "text": [
      "heyheyheyheyhey\n"
     ]
    }
   ],
   "source": [
    "#string duplication\n",
    "x = \"hey\"\n",
    "print(x*5)"
   ]
  },
  {
   "cell_type": "code",
   "execution_count": 6,
   "metadata": {},
   "outputs": [
    {
     "data": {
      "text/plain": [
       "'BEAUTIFUL'"
      ]
     },
     "execution_count": 6,
     "metadata": {},
     "output_type": "execute_result"
    }
   ],
   "source": [
    "# to convert the string in uppercase \n",
    "x = \"beautiful\"\n",
    "x.upper()"
   ]
  },
  {
   "cell_type": "code",
   "execution_count": 7,
   "metadata": {},
   "outputs": [
    {
     "data": {
      "text/plain": [
       "'beautiful'"
      ]
     },
     "execution_count": 7,
     "metadata": {},
     "output_type": "execute_result"
    }
   ],
   "source": [
    "#to convert the string in lower case\n",
    "x = \"BEAUTIFUL\"\n",
    "x.lower()"
   ]
  },
  {
   "cell_type": "code",
   "execution_count": 8,
   "metadata": {},
   "outputs": [
    {
     "data": {
      "text/plain": [
       "'Beautiful'"
      ]
     },
     "execution_count": 8,
     "metadata": {},
     "output_type": "execute_result"
    }
   ],
   "source": [
    "#to convert fist character of the string in uppercase\n",
    "x =\"beautiful\"\n",
    "x.capitalize()"
   ]
  },
  {
   "cell_type": "code",
   "execution_count": 9,
   "metadata": {},
   "outputs": [
    {
     "data": {
      "text/plain": [
       "['you', 'are', 'fool']"
      ]
     },
     "execution_count": 9,
     "metadata": {},
     "output_type": "execute_result"
    }
   ],
   "source": [
    "#split method\n",
    "a = 'you are fool'\n",
    "a.split()"
   ]
  },
  {
   "cell_type": "code",
   "execution_count": 10,
   "metadata": {},
   "outputs": [
    {
     "name": "stdout",
     "output_type": "stream",
     "text": [
      " Johnny johnny yes papa \n",
      "eating sugar no papa \n",
      "telling lies no papa \n",
      "open your mouth hahahaha\n"
     ]
    }
   ],
   "source": [
    "poem = ''' Johnny johnny yes papa \n",
    "eating sugar no papa \n",
    "telling lies no papa \n",
    "open your mouth hahahaha'''\n",
    "print(poem)\n"
   ]
  },
  {
   "cell_type": "code",
   "execution_count": 11,
   "metadata": {},
   "outputs": [
    {
     "data": {
      "text/plain": [
       "[' Johnny johnny yes papa ',\n",
       " 'eating sugar no papa ',\n",
       " 'telling lies no papa ',\n",
       " 'open your mouth hahahaha']"
      ]
     },
     "execution_count": 11,
     "metadata": {},
     "output_type": "execute_result"
    }
   ],
   "source": [
    "# split the poem into lines\n",
    "poem.splitlines()"
   ]
  },
  {
   "cell_type": "code",
   "execution_count": 12,
   "metadata": {},
   "outputs": [
    {
     "name": "stdout",
     "output_type": "stream",
     "text": [
      " Johnny johnny no papa \n",
      "drinking sugar no papa \n",
      "telling truth no papa \n",
      "close your mouth hahahaha\n"
     ]
    }
   ],
   "source": [
    "p = poem.replace('yes','no').replace('eating','drinking').replace('lies','truth').replace('open','close')\n",
    "print(p)"
   ]
  },
  {
   "cell_type": "code",
   "execution_count": 13,
   "metadata": {},
   "outputs": [
    {
     "data": {
      "text/plain": [
       "15"
      ]
     },
     "execution_count": 13,
     "metadata": {},
     "output_type": "execute_result"
    }
   ],
   "source": [
    "p.find('no')"
   ]
  },
  {
   "cell_type": "code",
   "execution_count": 14,
   "metadata": {},
   "outputs": [
    {
     "data": {
      "text/plain": [
       "'www/google/com'"
      ]
     },
     "execution_count": 14,
     "metadata": {},
     "output_type": "execute_result"
    }
   ],
   "source": [
    "url = ['www','google','com']\n",
    "'/'.join(url)"
   ]
  },
  {
   "cell_type": "code",
   "execution_count": 15,
   "metadata": {},
   "outputs": [
    {
     "name": "stdout",
     "output_type": "stream",
     "text": [
      "{'name': 'akash', 'class': 'python', 'age': 22}\n"
     ]
    }
   ],
   "source": [
    "dic ={'name': 'akash',\n",
    "      'class': 'python',\n",
    "      'age' : 22 ,\n",
    "      }\n",
    "print(dic)"
   ]
  },
  {
   "cell_type": "code",
   "execution_count": null,
   "metadata": {},
   "outputs": [],
   "source": []
  },
  {
   "cell_type": "markdown",
   "metadata": {},
   "source": [
    "- how to declare dictionary\n",
    "- how to access key and value pairs\n",
    "- how to use loops in dictionary \n",
    "- indexing in dictionary "
   ]
  },
  {
   "cell_type": "code",
   "execution_count": null,
   "metadata": {},
   "outputs": [],
   "source": []
  },
  {
   "cell_type": "markdown",
   "metadata": {},
   "source": []
  },
  {
   "cell_type": "code",
   "execution_count": 16,
   "metadata": {},
   "outputs": [
    {
     "name": "stdout",
     "output_type": "stream",
     "text": [
      "{'lucknow': {25, 35, 30}, 'delhi': {25, 20, 30}, 'mumbai': {40, 35, 30}}\n"
     ]
    }
   ],
   "source": [
    "temp = {\n",
    "    'lucknow' : {25,30,35},\n",
    "    'delhi' : {20,25,30},\n",
    "     'mumbai' : {30,35,40},\n",
    "}\n",
    "print(temp)"
   ]
  },
  {
   "cell_type": "code",
   "execution_count": 17,
   "metadata": {},
   "outputs": [
    {
     "name": "stdout",
     "output_type": "stream",
     "text": [
      "{'name': 'john', 'age': 19, 'classs': '12th'}\n"
     ]
    }
   ],
   "source": [
    "info = dict(name = \"john\", age = 19 , classs = \"12th\")\n",
    "print(info)"
   ]
  },
  {
   "cell_type": "code",
   "execution_count": 18,
   "metadata": {},
   "outputs": [
    {
     "ename": "ValueError",
     "evalue": "invalid literal for int() with base 10: ''",
     "output_type": "error",
     "traceback": [
      "\u001b[1;31m---------------------------------------------------------------------------\u001b[0m",
      "\u001b[1;31mValueError\u001b[0m                                Traceback (most recent call last)",
      "Cell \u001b[1;32mIn[18], line 2\u001b[0m\n\u001b[0;32m      1\u001b[0m info2 \u001b[38;5;241m=\u001b[39m \u001b[38;5;28mdict\u001b[39m(name \u001b[38;5;241m=\u001b[39m (\u001b[38;5;28minput\u001b[39m(\u001b[38;5;124m\"\u001b[39m\u001b[38;5;124menter the name  : \u001b[39m\u001b[38;5;124m\"\u001b[39m)),\n\u001b[1;32m----> 2\u001b[0m age \u001b[38;5;241m=\u001b[39m \u001b[38;5;28;43mint\u001b[39;49m\u001b[43m(\u001b[49m\u001b[38;5;28;43minput\u001b[39;49m\u001b[43m(\u001b[49m\u001b[38;5;124;43m\"\u001b[39;49m\u001b[38;5;124;43menter your age : \u001b[39;49m\u001b[38;5;124;43m\"\u001b[39;49m\u001b[43m)\u001b[49m\u001b[43m)\u001b[49m,\n\u001b[0;32m      3\u001b[0m course \u001b[38;5;241m=\u001b[39m \u001b[38;5;28minput\u001b[39m(\u001b[38;5;124m\"\u001b[39m\u001b[38;5;124menter your course : \u001b[39m\u001b[38;5;124m\"\u001b[39m))\n\u001b[0;32m      4\u001b[0m \u001b[38;5;28mprint\u001b[39m(info2)\n",
      "\u001b[1;31mValueError\u001b[0m: invalid literal for int() with base 10: ''"
     ]
    }
   ],
   "source": [
    "info2 = dict(name = (input(\"enter the name  : \")),\n",
    "age = int(input(\"enter your age : \")),\n",
    "course = input(\"enter your course : \"))\n",
    "print(info2)"
   ]
  },
  {
   "cell_type": "code",
   "execution_count": 102,
   "metadata": {},
   "outputs": [
    {
     "name": "stdout",
     "output_type": "stream",
     "text": [
      "john\n",
      "34\n"
     ]
    }
   ],
   "source": [
    "#1st method to\n",
    "print(info [\"name\"])\n",
    "print(info2 [\"age\"]) "
   ]
  },
  {
   "cell_type": "code",
   "execution_count": 103,
   "metadata": {},
   "outputs": [
    {
     "name": "stdout",
     "output_type": "stream",
     "text": [
      "john\n",
      "34\n"
     ]
    }
   ],
   "source": [
    "#2 nd method to get the value of key \n",
    "print(info.get(\"name\"))\n",
    "print(info2.get(\"age\"))"
   ]
  },
  {
   "cell_type": "code",
   "execution_count": 104,
   "metadata": {},
   "outputs": [
    {
     "name": "stdout",
     "output_type": "stream",
     "text": [
      "{'name': 'aaa', 'age': 34, 'course': 'ffg', 'student': 'dps', 'city': 'lucknow'}\n"
     ]
    }
   ],
   "source": [
    "# to add items in dictionary\n",
    "info2['student'] = 'dps'\n",
    "info2['city'] = 'lucknow'\n",
    "print(info2)"
   ]
  },
  {
   "cell_type": "code",
   "execution_count": 105,
   "metadata": {},
   "outputs": [
    {
     "name": "stdout",
     "output_type": "stream",
     "text": [
      "dict_keys(['name', 'age', 'course', 'student', 'city'])\n",
      "dict_values(['aaa', 34, 'ffg', 'dps', 'lucknow'])\n",
      "dict_items([('name', 'aaa'), ('age', 34), ('course', 'ffg'), ('student', 'dps'), ('city', 'lucknow')])\n"
     ]
    }
   ],
   "source": [
    "\n",
    "print(info2.keys())\n",
    "print(info2.values())\n",
    "print(info2.items())"
   ]
  },
  {
   "cell_type": "code",
   "execution_count": 106,
   "metadata": {},
   "outputs": [
    {
     "name": "stdout",
     "output_type": "stream",
     "text": [
      "name\n",
      "age\n",
      "course\n",
      "student\n",
      "city\n"
     ]
    }
   ],
   "source": [
    "for k in info2:\n",
    "    print(k)"
   ]
  },
  {
   "cell_type": "code",
   "execution_count": 107,
   "metadata": {},
   "outputs": [
    {
     "name": "stdout",
     "output_type": "stream",
     "text": [
      "name : aaa\n",
      "age : 34\n",
      "course : ffg\n",
      "student : dps\n",
      "city : lucknow\n"
     ]
    }
   ],
   "source": [
    "for k,v in info2.items():\n",
    "    print(f'{k} : {v}')"
   ]
  },
  {
   "cell_type": "code",
   "execution_count": 108,
   "metadata": {},
   "outputs": [
    {
     "name": "stdout",
     "output_type": "stream",
     "text": [
      "{'emp001': {'name': 'john', 'age': 25, 'city': 'lucknow', 'salary': 25000}, 'emp002': {'name': 'sam', 'age': 30, 'city': 'delhi', 'salary': 30000}, 'emp003': {'name': 'tom', 'age': 35, 'city': 'mumbai', 'salary': 35000}}\n"
     ]
    }
   ],
   "source": [
    "company = {\n",
    "    'emp001'  : { \n",
    "        'name' :  'john',\n",
    "        'age' : 25,\n",
    "        'city' : 'lucknow',\n",
    "        'salary' : 25000\n",
    "    },\n",
    "     'emp002' : { \n",
    "        'name': 'sam',\n",
    "        'age'  : 30,\n",
    "        'city': 'delhi',\n",
    "        'salary': 30000\n",
    "    },\n",
    "    'emp003': {\n",
    "        'name' : 'tom',\n",
    "        'age' : 35,\n",
    "        'city' : 'mumbai',\n",
    "        'salary' : 35000\n",
    "    }\n",
    "}\n",
    "print(company)    "
   ]
  },
  {
   "cell_type": "code",
   "execution_count": 109,
   "metadata": {},
   "outputs": [],
   "source": [
    "from pprint import pprint"
   ]
  },
  {
   "cell_type": "code",
   "execution_count": 110,
   "metadata": {},
   "outputs": [
    {
     "data": {
      "text/plain": [
       "'john'"
      ]
     },
     "execution_count": 110,
     "metadata": {},
     "output_type": "execute_result"
    }
   ],
   "source": [
    "company[ 'emp001'] ['name']"
   ]
  },
  {
   "cell_type": "code",
   "execution_count": 111,
   "metadata": {},
   "outputs": [
    {
     "name": "stdout",
     "output_type": "stream",
     "text": [
      "{'emp001': {'age': 25, 'city': 'lucknow', 'name': 'john', 'salary': 25000},\n",
      " 'emp002': {'age': 30, 'city': 'delhi', 'name': 'sam', 'salary': 30000},\n",
      " 'emp003': {'age': 35, 'city': 'mumbai', 'name': 'tom', 'salary': 35000}}\n"
     ]
    }
   ],
   "source": [
    "pprint(company)"
   ]
  },
  {
   "cell_type": "code",
   "execution_count": 112,
   "metadata": {},
   "outputs": [
    {
     "name": "stdout",
     "output_type": "stream",
     "text": [
      "30.0\n"
     ]
    }
   ],
   "source": [
    "print(sum(temp['lucknow'])/len(temp['lucknow']))"
   ]
  },
  {
   "cell_type": "code",
   "execution_count": 19,
   "metadata": {},
   "outputs": [
    {
     "ename": "TypeError",
     "evalue": "'set' object is not subscriptable",
     "output_type": "error",
     "traceback": [
      "\u001b[1;31m---------------------------------------------------------------------------\u001b[0m",
      "\u001b[1;31mTypeError\u001b[0m                                 Traceback (most recent call last)",
      "Cell \u001b[1;32mIn[19], line 1\u001b[0m\n\u001b[1;32m----> 1\u001b[0m \u001b[38;5;28mprint\u001b[39m(\u001b[43mtemp\u001b[49m\u001b[43m[\u001b[49m\u001b[38;5;124;43m'\u001b[39;49m\u001b[38;5;124;43mlucknow\u001b[39;49m\u001b[38;5;124;43m'\u001b[39;49m\u001b[43m]\u001b[49m\u001b[43m[\u001b[49m\u001b[38;5;241;43m1\u001b[39;49m\u001b[43m]\u001b[49m)\n",
      "\u001b[1;31mTypeError\u001b[0m: 'set' object is not subscriptable"
     ]
    }
   ],
   "source": [
    "print(temp['lucknow'][1])"
   ]
  },
  {
   "cell_type": "code",
   "execution_count": null,
   "metadata": {},
   "outputs": [],
   "source": [
    "num =input(\"enter the number \") "
   ]
  }
 ],
 "metadata": {
  "kernelspec": {
   "display_name": "base",
   "language": "python",
   "name": "python3"
  },
  "language_info": {
   "codemirror_mode": {
    "name": "ipython",
    "version": 3
   },
   "file_extension": ".py",
   "mimetype": "text/x-python",
   "name": "python",
   "nbconvert_exporter": "python",
   "pygments_lexer": "ipython3",
   "version": "3.12.7"
  }
 },
 "nbformat": 4,
 "nbformat_minor": 2
}
