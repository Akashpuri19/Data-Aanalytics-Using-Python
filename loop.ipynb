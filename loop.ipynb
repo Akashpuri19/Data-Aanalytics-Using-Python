{
 "cells": [
  {
   "cell_type": "code",
   "execution_count": 3,
   "metadata": {},
   "outputs": [
    {
     "name": "stdout",
     "output_type": "stream",
     "text": [
      " apple\n",
      " mango\n",
      "watermelon\n"
     ]
    }
   ],
   "source": [
    "fruits = [' apple',' mango', 'watermelon' ,]\n",
    "for x in fruits:\n",
    "   print(x)"
   ]
  },
  {
   "cell_type": "code",
   "execution_count": 1,
   "metadata": {},
   "outputs": [
    {
     "name": "stdout",
     "output_type": "stream",
     "text": [
      " apple  mango watermelon "
     ]
    }
   ],
   "source": [
    "fruits = [' apple',' mango', 'watermelon' ,]\n",
    "for x in fruits:\n",
    "   print(x, end = \" \")"
   ]
  },
  {
   "cell_type": "code",
   "execution_count": 2,
   "metadata": {},
   "outputs": [
    {
     "name": "stdout",
     "output_type": "stream",
     "text": [
      "I love python"
     ]
    }
   ],
   "source": [
    "text = \"I love python\"\n",
    "for word in text:\n",
    "    print(word, end= \"\")"
   ]
  },
  {
   "cell_type": "code",
   "execution_count": 4,
   "metadata": {},
   "outputs": [
    {
     "name": "stdout",
     "output_type": "stream",
     "text": [
      "1\n",
      "2\n",
      "3\n",
      "4\n",
      "5\n",
      "6\n",
      "7\n",
      "8\n",
      "9\n"
     ]
    }
   ],
   "source": [
    "for num in range(1,10):\n",
    "    print(num)"
   ]
  },
  {
   "cell_type": "code",
   "execution_count": 15,
   "metadata": {},
   "outputs": [
    {
     "name": "stdout",
     "output_type": "stream",
     "text": [
      "akash\n",
      "akash\n",
      "akash\n",
      "akash\n",
      "akash\n",
      "akash\n",
      "akash\n",
      "akash\n",
      "akash\n"
     ]
    }
   ],
   "source": [
    "name = \"akash\"\n",
    "for x in range(1, 10):\n",
    "    print(name) "
   ]
  },
  {
   "cell_type": "code",
   "execution_count": 23,
   "metadata": {},
   "outputs": [
    {
     "name": "stdout",
     "output_type": "stream",
     "text": [
      "akash\n",
      "akash\n",
      "akash\n",
      "akash\n",
      "akash\n",
      "akash\n",
      "akash\n",
      "akash\n",
      "akash\n",
      "akash\n"
     ]
    }
   ],
   "source": [
    "for x in range(1,11):\n",
    "    print(\"akash\")"
   ]
  },
  {
   "cell_type": "code",
   "execution_count": 32,
   "metadata": {},
   "outputs": [
    {
     "name": "stdout",
     "output_type": "stream",
     "text": [
      "2\n",
      "4\n",
      "6\n",
      "8\n",
      "10\n",
      "12\n",
      "14\n",
      "16\n",
      "18\n",
      "20\n",
      "22\n",
      "24\n",
      "26\n",
      "28\n",
      "30\n"
     ]
    }
   ],
   "source": [
    "for num in range(1,31):\n",
    "    if num % 2 == 0:\n",
    "     print(num)"
   ]
  },
  {
   "cell_type": "code",
   "execution_count": 28,
   "metadata": {},
   "outputs": [
    {
     "name": "stdout",
     "output_type": "stream",
     "text": [
      "0\n",
      "2\n",
      "4\n",
      "6\n",
      "8\n",
      "10\n",
      "12\n",
      "14\n",
      "16\n",
      "18\n",
      "20\n",
      "22\n",
      "24\n",
      "26\n",
      "28\n",
      "30\n"
     ]
    }
   ],
   "source": [
    "for i in range (0,31,2):\n",
    "    print(i)"
   ]
  },
  {
   "cell_type": "code",
   "execution_count": 44,
   "metadata": {},
   "outputs": [
    {
     "name": "stdout",
     "output_type": "stream",
     "text": [
      "2\n",
      "4\n",
      "6\n",
      "8\n",
      "10\n",
      "12\n",
      "14\n",
      "16\n",
      "18\n",
      "20\n"
     ]
    }
   ],
   "source": [
    "num = [1,2,3,4,5,6,7,8,9,10,11,12,13,14,15,16,17,18,19,20,21]\n",
    "for x in num:\n",
    "   if x % 2 == 0:\n",
    "      print(x)"
   ]
  },
  {
   "cell_type": "code",
   "execution_count": 45,
   "metadata": {},
   "outputs": [
    {
     "name": "stdout",
     "output_type": "stream",
     "text": [
      "1\n",
      "3\n",
      "5\n",
      "7\n",
      "9\n",
      "11\n",
      "13\n",
      "15\n",
      "17\n",
      "19\n"
     ]
    }
   ],
   "source": [
    "num = 1 \n",
    "while num <= 20 :\n",
    "    print (num)\n",
    "    num += 2"
   ]
  },
  {
   "cell_type": "code",
   "execution_count": 3,
   "metadata": {},
   "outputs": [
    {
     "name": "stdout",
     "output_type": "stream",
     "text": [
      "akash\n",
      "akash\n",
      "akash\n",
      "akash\n",
      "akash\n",
      "akash\n",
      "akash\n",
      "akash\n",
      "akash\n",
      "akash\n"
     ]
    }
   ],
   "source": [
    "\n",
    "num = 1\n",
    "while num <=10:\n",
    "    print(\"akash\")\n",
    "    num+=1"
   ]
  },
  {
   "cell_type": "code",
   "execution_count": 5,
   "metadata": {},
   "outputs": [
    {
     "name": "stdout",
     "output_type": "stream",
     "text": [
      "2\n",
      "4\n",
      "6\n",
      "8\n",
      "10\n",
      "12\n",
      "14\n",
      "16\n",
      "18\n",
      "20\n"
     ]
    }
   ],
   "source": [
    "num = 1 \n",
    "while num<=20:\n",
    "    if num%2 == 0:\n",
    "        print(num)\n",
    "    num+=1"
   ]
  },
  {
   "cell_type": "code",
   "execution_count": 8,
   "metadata": {},
   "outputs": [
    {
     "name": "stdout",
     "output_type": "stream",
     "text": [
      "apple\n",
      "kiwi\n",
      "cherry\n"
     ]
    }
   ],
   "source": [
    "fruits = [\"apple\" , \"kiwi\" , \"cherry\" , \"ladyfinger\", \"banana\" , \"orange\" , \"mango\"]\n",
    "for fruit in fruits:\n",
    "    if fruit == \"ladyfinger\":\n",
    "        break\n",
    "    print(fruit)"
   ]
  },
  {
   "cell_type": "code",
   "execution_count": 9,
   "metadata": {},
   "outputs": [
    {
     "name": "stdout",
     "output_type": "stream",
     "text": [
      "apple\n",
      "kiwi\n",
      "cherry\n",
      "banana\n",
      "orange\n",
      "mango\n"
     ]
    }
   ],
   "source": [
    "fruits = [\"apple\" , \"kiwi\" , \"cherry\" , \"ladyfinger\", \"banana\" , \"orange\" , \"mango\"]\n",
    "for fruit in fruits:\n",
    "    if fruit == \"ladyfinger\":\n",
    "        continue\n",
    "    print(fruit)"
   ]
  },
  {
   "cell_type": "code",
   "execution_count": null,
   "metadata": {},
   "outputs": [],
   "source": []
  }
 ],
 "metadata": {
  "kernelspec": {
   "display_name": "base",
   "language": "python",
   "name": "python3"
  },
  "language_info": {
   "codemirror_mode": {
    "name": "ipython",
    "version": 3
   },
   "file_extension": ".py",
   "mimetype": "text/x-python",
   "name": "python",
   "nbconvert_exporter": "python",
   "pygments_lexer": "ipython3",
   "version": "3.12.7"
  }
 },
 "nbformat": 4,
 "nbformat_minor": 2
}
